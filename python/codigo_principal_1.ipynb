{
 "cells": [
  {
   "cell_type": "markdown",
   "metadata": {},
   "source": [
    "# Código Principal\n",
    "Table of Contents\n",
    "Configuración general:  \n",
    "Datos específicos del Estudio Nº 1:  \n",
    "Calculos iniciales:  \n",
    "Generación del mandril y su gráfico:  \n",
    "Generación de la hélice de la ida y su gráfico:  \n",
    "Generación de la trayectoria de retorno de la ida y su gráfico:  \n",
    "Generación de la trayectoria de la vuelta y su gráfico:  \n",
    "Generación de la trayectoria de retorno de la vuelta y su gráfico:  \n",
    "Generación de las trayectorias de un ciclo completo y su gráfico:  \n",
    "Ciclos para una capa completa:  \n",
    "Grafico del un ciclo de cinta de fibra completo:  \n",
    "CNC  \n",
    "Superposiciones  "
   ]
  },
  {
   "cell_type": "markdown",
   "metadata": {},
   "source": [
    "## Importación de módulos de python: "
   ]
  },
  {
   "cell_type": "code",
   "execution_count": null,
   "metadata": {},
   "outputs": [
    {
     "ename": "",
     "evalue": "",
     "output_type": "error",
     "traceback": [
      "\u001b[1;31mLa ejecución de celdas con 'Python 3.11.6' requiere el paquete ipykernel.\n",
      "\u001b[1;31mEjecute el siguiente comando para instalar 'ipykernel' en el entorno de Python. comando \n",
      "\u001b[1;31m: 'c:/msys64/ucrt64/bin/python.exe -m pip install ipykernel -U --user --force-reinstall'"
     ]
    }
   ],
   "source": [
    "import os\n",
    "import pandas as pd\n",
    "from datetime import datetime\n",
    "from variables_de_salida import variables_de_salida"
   ]
  },
  {
   "cell_type": "markdown",
   "metadata": {},
   "source": [
    "## Configuración general:\n",
    "Configuración del archivo:"
   ]
  },
  {
   "cell_type": "code",
   "execution_count": null,
   "metadata": {},
   "outputs": [
    {
     "ename": "",
     "evalue": "",
     "output_type": "error",
     "traceback": [
      "\u001b[1;31mLa ejecución de celdas con 'Python' requiere el paquete ipykernel.\n",
      "\u001b[1;31mEjecute el siguiente comando para instalar 'ipykernel' en el entorno de Python. comando \n",
      "\u001b[1;31m: 'c:/msys64/ucrt64/bin/python.exe -m pip install ipykernel -U --user --force-reinstall'"
     ]
    }
   ],
   "source": [
    "\n",
    "\n",
    "# Nombre del archivo Excel de salida\n",
    "excel = 'trayectorias_FW_1.xlsx'  # Cambiar el nombre del archivo de salida\n",
    "\n",
    "# Crear un diccionario para los tiempos de cálculo\n",
    "tiempos_de_calculo = {}\n",
    "\n",
    "# Guardar el tiempo de inicio\n",
    "tiempos_de_calculo['tiempo_de_inicio'] = datetime.now()\n",
    "\n",
    "# Opcional: imprimir el tiempo de inicio\n",
    "print(f\"Tiempo de inicio: {tiempos_de_calculo['tiempo_de_inicio']}\")"
   ]
  },
  {
   "cell_type": "markdown",
   "metadata": {},
   "source": [
    "Invocamos a la funcion con los valores de salida de los resultados:\n"
   ]
  },
  {
   "cell_type": "code",
   "execution_count": null,
   "metadata": {},
   "outputs": [
    {
     "ename": "",
     "evalue": "",
     "output_type": "error",
     "traceback": [
      "\u001b[1;31mLa ejecución de celdas con 'Python 3.11.6' requiere el paquete ipykernel.\n",
      "\u001b[1;31mEjecute el siguiente comando para instalar 'ipykernel' en el entorno de Python. comando \n",
      "\u001b[1;31m: 'c:/msys64/ucrt64/bin/python.exe -m pip install ipykernel -U --user --force-reinstall'"
     ]
    }
   ],
   "source": [
    "var_sal = variables_de_salida(excel)"
   ]
  }
 ],
 "metadata": {
  "kernelspec": {
   "display_name": "Python 3",
   "language": "python",
   "name": "python3"
  },
  "language_info": {
   "name": "python",
   "version": "3.11.6"
  }
 },
 "nbformat": 4,
 "nbformat_minor": 2
}
